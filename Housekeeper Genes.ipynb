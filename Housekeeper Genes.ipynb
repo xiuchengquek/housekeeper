{
 "metadata": {
  "name": "",
  "signature": "sha256:ce2d617a518c9e5483b1971ec0643a11b3e5a2d851852869fd58e57bdff04156"
 },
 "nbformat": 3,
 "nbformat_minor": 0,
 "worksheets": [
  {
   "cells": [
    {
     "cell_type": "code",
     "collapsed": false,
     "input": [
      "%pylab inline\n",
      "%load_ext rmagic\n",
      "%load_ext rpy2.ipython"
     ],
     "language": "python",
     "metadata": {},
     "outputs": [
      {
       "output_type": "stream",
       "stream": "stdout",
       "text": [
        "Populating the interactive namespace from numpy and matplotlib\n",
        "The rmagic extension is already loaded. To reload it, use:\n",
        "  %reload_ext rmagic\n",
        "The rpy2.ipython extension is already loaded. To reload it, use:\n",
        "  %reload_ext rpy2.ipython\n"
       ]
      },
      {
       "output_type": "stream",
       "stream": "stderr",
       "text": [
        "WARNING: pylab import has clobbered these variables: ['f']\n",
        "`%matplotlib` prevents importing * from pylab and numpy\n"
       ]
      }
     ],
     "prompt_number": 19
    },
    {
     "cell_type": "heading",
     "level": 1,
     "metadata": {},
     "source": [
      "Finding House keeping genes in photo damange samples"
     ]
    },
    {
     "cell_type": "markdown",
     "metadata": {},
     "source": [
      "The aim of the study is to find house keeping genes that may better represent the samples that we are looking at.</br>\n",
      "\n",
      "In this experiment, we aim to look for genes that are\n",
      "<ul><li>Genes that have good expression value across all samples</li>\n",
      "<li>Genes that have similiar expression profile across different conditions</li>\n",
      "</ul>\n",
      "\n",
      "To do so, I will do the following : \n",
      "<ul>\n",
      "    <li> construct count table from all samples.</li>\n",
      "    <li> conduct apporiate normalization procedure</li> \n",
      "    <li> Calculate the variance for each gene </li>\n",
      "    <li> find expression value </li> \n",
      "    <li> Find length of region covered by HTseq. ( count the exon length for each exon )</li>\n",
      "    </ul>\n",
      "    \n",
      "However, we will have a problem. Because this is not normalised to the gene length. Therefore a gene with a high could be simply due to it having a long length. In this case, we will need the total exon count.\n",
      "\n",
      "Thus we will need to load a gtf file and then count the total exon region. \n",
      "\n"
     ]
    },
    {
     "cell_type": "heading",
     "level": 2,
     "metadata": {},
     "source": [
      "Step 1 : Constructing of count table"
     ]
    },
    {
     "cell_type": "markdown",
     "metadata": {},
     "source": [
      "The count table have been seperated into 2 different folder, the psoarsis_htout and the scc_htout. We will need to construct a count matrix with the rows as gene name and the columns as each sample.\n",
      "To do so, we will employ the following methods :\n",
      "\n",
      "<ul>\n",
      "<li> use python os.walk to find all the files </li>\n",
      "<li> open each file and store them as data.frame </li>\n",
      "<li> append each dataframe to a python list </li>\n",
      "<li> merge the list of dataframe as one using python concat function </li>\n",
      "</ul> \n",
      "\n",
      "the merge will ensure that all the row names for the dataframes are the, if they arent, NA values will appear and a warning will  be thrown. \n",
      "\n",
      "All the rows (gene name) should be the same as they were counted with the same gtf file which is the gencode annotation version 15"
     ]
    },
    {
     "cell_type": "code",
     "collapsed": false,
     "input": [
      "%%bash\n",
      "tree psoarsis_htout\n",
      "tree scc_htout"
     ],
     "language": "python",
     "metadata": {},
     "outputs": [
      {
       "output_type": "stream",
       "stream": "stdout",
       "text": [
        "psoarsis_htout\n",
        "\u251c\u2500\u2500 PR001_Normal_tophat_out_unstranded_HTout\n",
        "\u251c\u2500\u2500 PR001_Psoria_tophat_out_unstranded_HTout\n",
        "\u251c\u2500\u2500 PR002_Normal_tophat_out_unstranded_HTout\n",
        "\u251c\u2500\u2500 PR002_Psoria_tophat_out_unstranded_HTout\n",
        "\u251c\u2500\u2500 PR003_Normal_tophat_out_unstranded_HTout\n",
        "\u251c\u2500\u2500 PR003_Psoria_tophat_out_unstranded_HTout\n",
        "\u251c\u2500\u2500 PR004_Normal_tophat_out_unstranded_HTout\n",
        "\u251c\u2500\u2500 PR004_Psoria_tophat_out_unstranded_HTout\n",
        "\u2514\u2500\u2500 perlscripts\n",
        "\n",
        "1 directory, 8 files\n",
        "scc_htout\n",
        "\u251c\u2500\u2500 C0MPPACXX-7-01_htout\n",
        "\u251c\u2500\u2500 C0MPPACXX-7-03_htout\n",
        "\u251c\u2500\u2500 C0MPPACXX-7-08_htout\n",
        "\u251c\u2500\u2500 C0MPPACXX-7-09_htout\n",
        "\u251c\u2500\u2500 CLASSIFICATION\n",
        "\u251c\u2500\u2500 D0VU5ACXX-3-03_htout\n",
        "\u251c\u2500\u2500 D0VU5ACXX-3-08_htout\n",
        "\u251c\u2500\u2500 D0VU5ACXX-3-09_htout\n",
        "\u251c\u2500\u2500 D0VU5ACXX-3-10_htout\n",
        "\u251c\u2500\u2500 D0VU5ACXX-3-20_htout\n",
        "\u251c\u2500\u2500 D0VU5ACXX-4-21_htout\n",
        "\u251c\u2500\u2500 D0VU5ACXX-4-22_htout\n",
        "\u251c\u2500\u2500 D0VU5ACXX-4-23_htout\n",
        "\u251c\u2500\u2500 D0VU5ACXX-4-25_htout\n",
        "\u251c\u2500\u2500 D0VU5ACXX-4-27_htout\n",
        "\u251c\u2500\u2500 D190PACXX-2-04_htout\n",
        "\u251c\u2500\u2500 D190PACXX-2-05_htout\n",
        "\u251c\u2500\u2500 D190PACXX-2-06_htout\n",
        "\u251c\u2500\u2500 D190PACXX-2-07_htout\n",
        "\u251c\u2500\u2500 D190PACXX-2-12_htout\n",
        "\u251c\u2500\u2500 D190PACXX-2-13_htout\n",
        "\u251c\u2500\u2500 D190PACXX-2-14_htout\n",
        "\u251c\u2500\u2500 D190PACXX-2-15_htout\n",
        "\u251c\u2500\u2500 D190PACXX-2-16_htout\n",
        "\u251c\u2500\u2500 D190PACXX-2-18_htout\n",
        "\u251c\u2500\u2500 D190PACXX-2-19_htout\n",
        "\u251c\u2500\u2500 D190PACXX-3-04_htout\n",
        "\u251c\u2500\u2500 D190PACXX-3-09_htout\n",
        "\u251c\u2500\u2500 D190PACXX-3-10_htout\n",
        "\u251c\u2500\u2500 D190PACXX-3-11_htout\n",
        "\u251c\u2500\u2500 D190PACXX-3-12_htout\n",
        "\u251c\u2500\u2500 D190PACXX-3-13_htout\n",
        "\u251c\u2500\u2500 D190PACXX-3-14_htout\n",
        "\u251c\u2500\u2500 D190PACXX-3-15_htout\n",
        "\u251c\u2500\u2500 D190PACXX-3-16_htout\n",
        "\u251c\u2500\u2500 D190PACXX-3-18_htout\n",
        "\u251c\u2500\u2500 immuno_status\n",
        "\u2514\u2500\u2500 phenotype_scc.txt\n",
        "\n",
        "0 directories, 38 files\n"
       ]
      }
     ],
     "prompt_number": 20
    },
    {
     "cell_type": "markdown",
     "metadata": {},
     "source": [
      "and in file the format is :"
     ]
    },
    {
     "cell_type": "code",
     "collapsed": false,
     "input": [
      "%%bash\n",
      "head scc_htout/D0VU5ACXX-3-03_htout"
     ],
     "language": "python",
     "metadata": {},
     "outputs": [
      {
       "output_type": "stream",
       "stream": "stdout",
       "text": [
        "ENSG00000000003.10\t481\n",
        "ENSG00000000005.5\t3\n",
        "ENSG00000000419.8\t785\n",
        "ENSG00000000457.8\t356\n",
        "ENSG00000000460.12\t228\n",
        "ENSG00000000938.8\t310\n",
        "ENSG00000000971.11\t2251\n",
        "ENSG00000001036.8\t436\n",
        "ENSG00000001084.6\t1135\n",
        "ENSG00000001167.10\t798\n"
       ]
      }
     ],
     "prompt_number": 21
    },
    {
     "cell_type": "heading",
     "level": 3,
     "metadata": {},
     "source": [
      "Step 1a :  os.walk to get all the file that we want"
     ]
    },
    {
     "cell_type": "code",
     "collapsed": false,
     "input": [
      "import os\n",
      "current_dir = os.getcwd()\n",
      "print current_dir\n",
      "folder_names = ['psoarsis_htout', 'scc_htout']\n",
      "files = []\n",
      "\n",
      "## construct a for loop to go thru each folder  \n",
      "for folder in folder_names:\n",
      "    ## using list comprehension to generate list of files that ends with htout\n",
      "    files.extend([ os.path.join(current_dir, folder, x) \\\n",
      "                  for x in os.listdir(folder) if x.endswith('htout') or x.endswith('HTout')])\n",
      "    \n",
      "    \n",
      "print len(files)"
     ],
     "language": "python",
     "metadata": {},
     "outputs": [
      {
       "output_type": "stream",
       "stream": "stdout",
       "text": [
        "/Users/quek/counts/psorasis\n",
        "43\n"
       ]
      }
     ],
     "prompt_number": 22
    },
    {
     "cell_type": "heading",
     "level": 3,
     "metadata": {},
     "source": [
      "Step1b-d : open each file and store them as data.frame"
     ]
    },
    {
     "cell_type": "code",
     "collapsed": false,
     "input": [
      "import pandas as pd \n",
      "## pandas is the module that we are going to use to construct our dataframes\n",
      "df_list = [pd.read_csv(x, sep='\\t', header=None, names=['gene',os.path.basename(x)], index_col=0) for x in files]\n",
      "df = pd.concat(df_list, axis=1)\n",
      "df = df.iloc[:-5,:]\n"
     ],
     "language": "python",
     "metadata": {},
     "outputs": [],
     "prompt_number": 23
    },
    {
     "cell_type": "heading",
     "level": 2,
     "metadata": {},
     "source": [
      "Step 2 : Conduct Apporiate Normalization method"
     ]
    },
    {
     "cell_type": "markdown",
     "metadata": {},
     "source": [
      "Normalization will be conducted as according to methods in the edgeR manual. For normalization, we will need to \n",
      "<ul><li> Calculate Norm Factors </li>\n",
      "<li> Estimate common Distribution </li>\n",
      "<li> Estimate tag wise disp </li>\n",
      "<li> filter cpm less than 1  </li>\n",
      "</ul>"
     ]
    },
    {
     "cell_type": "heading",
     "level": 2,
     "metadata": {},
     "source": [
      "Step 2a : Find Approriate groups for normalization"
     ]
    },
    {
     "cell_type": "markdown",
     "metadata": {},
     "source": [
      "In edge R normalization will take in information regarding the samples and normalise them accodingly. Effectively, TMM normalization assume that the majority of genes, common to both samples, are not differentially expressed. Our simulation studies indicate that the TMM method is robust against deviations to this assumption up to about 30% of DE in one direction. For many applications, this assumption will not be violated."
     ]
    },
    {
     "cell_type": "code",
     "collapsed": false,
     "input": [
      "%%bash\n",
      "\n",
      "head scc_htout/CLASSIFICATION\n"
     ],
     "language": "python",
     "metadata": {},
     "outputs": [
      {
       "output_type": "stream",
       "stream": "stdout",
       "text": [
        "AK\tD190PACXX-2-15, D190PACXX-3-15,C0MPPACXX-7-03,C0MPPACXX-7-08,D0VU5ACXX-3-03, D0VU5ACXX-3-08, D0VU5ACXX-3-09 ,D0VU5ACXX-3-10,D190PACXX-2-04,D190PACXX-2-06,D190PACXX-3-10,D190PACXX-2-19, D190PACXX-3-04,D190PACXX-2-07, D190PACXX-3-11\n",
        "IEC\tC0MPPACXX-7-01,D0VU5ACXX-4-22,D0VU5ACXX-4-23,D0VU5ACXX-4-25,D0VU5ACXX-4-27,D0VU5ACXX-4-21,D0VU5ACXX-3-20\n",
        "SCC\tD190PACXX-3-12, D190PACXX-3-13,D190PACXX-2-12, D190PACXX-2-13,D190PACXX-2-14, D190PACXX-3-14,D190PACXX-2-18, D190PACXX-3-18\n",
        "AK/IEC/SCC\tD190PACXX-2-16, D190PACXX-3-16, D190PACXX-2-05,C0MPPACXX-7-09,D190PACXX-3-09 "
       ]
      }
     ],
     "prompt_number": 24
    },
    {
     "cell_type": "markdown",
     "metadata": {},
     "source": [
      "We are going to reorganise our dataframe according to the phenotype. To do so we will need to find out the column name and the respective phenotye they belong to"
     ]
    },
    {
     "cell_type": "code",
     "collapsed": false,
     "input": [
      "\n",
      "sample_classification = {} \n",
      "with open('scc_htout/CLASSIFICATION') as f:\n",
      "    for lines in f.readlines():\n",
      "        fields = lines.strip().split('\\t')\n",
      "        patient_ids = fields[1].split(',')\n",
      "        for patients in patient_ids:\n",
      "            patients = patients.strip()\n",
      "            sample_classification[patients] = fields[0]\n"
     ],
     "language": "python",
     "metadata": {},
     "outputs": [],
     "prompt_number": 25
    },
    {
     "cell_type": "markdown",
     "metadata": {},
     "source": [
      "Make sure that are the samples are represented"
     ]
    },
    {
     "cell_type": "code",
     "collapsed": false,
     "input": [
      "scc_samples = [x.split(\"_\")[0] for x in df.columns if x.endswith('_htout') ]\n",
      "## check that the file name and athe sample classification matches \n",
      "sample_keys = sample_classification.keys()\n",
      "found = [x for x in scc_samples if x in sample_keys]\n",
      "unfound = [x for x in scc_samples if x not in sample_keys]\n",
      "print len(found)\n",
      "print len(unfound)\n",
      "print unfound\n",
      "\n",
      "import re\n",
      "psoraisis_normal = [ x for x in df.columns if re.search('Normal', x)]\n",
      "psoraisis_disease = [x for x in df.columns if re.search('Psoria',x)]\n",
      "AK = [\"%s_htout\" % x for x in sample_keys if sample_classification[x] == 'AK']\n",
      "IEC = [\"%s_htout\" % x for x in sample_keys if sample_classification[x] == 'IEC']\n",
      "SCC = [\"%s_htout\" % x for x in sample_keys if sample_classification[x] == 'SCC']\n",
      "AKIECSCC = [\"%s_htout\" % x for x in sample_keys if sample_classification[x] == \"AK/IEC/SCC\"]\n",
      "\n"
     ],
     "language": "python",
     "metadata": {},
     "outputs": [
      {
       "output_type": "stream",
       "stream": "stdout",
       "text": [
        "35\n",
        "0\n",
        "[]\n"
       ]
      }
     ],
     "prompt_number": 26
    },
    {
     "cell_type": "markdown",
     "metadata": {},
     "source": [
      "Create groups based on their phenotype"
     ]
    },
    {
     "cell_type": "code",
     "collapsed": false,
     "input": [
      "import numpy as np\n",
      "complete_order = [psoraisis_normal, psoraisis_disease ,AK, IEC, SCC, AKIECSCC]\n",
      "group = 0\n",
      "group_order = []\n",
      "for classification in complete_order:\n",
      "    group_order.extend(np.repeat(group, len(classification)))\n",
      "    group =  group + 1\n",
      "    \n",
      "print group_order\n",
      "\n",
      "\n",
      "## unflatten the list of list\n",
      "complete_order = [y for x in complete_order for y in x] \n",
      "group_order = pd.DataFrame(group_order)\n",
      "df = df[complete_order]\n",
      "rownames = pd.DataFrame(df.index )\n"
     ],
     "language": "python",
     "metadata": {},
     "outputs": [
      {
       "output_type": "stream",
       "stream": "stdout",
       "text": [
        "[0, 0, 0, 0, 1, 1, 1, 1, 2, 2, 2, 2, 2, 2, 2, 2, 2, 2, 2, 2, 2, 2, 2, 3, 3, 3, 3, 3, 3, 3, 4, 4, 4, 4, 4, 4, 4, 4, 5, 5, 5, 5, 5]\n"
       ]
      }
     ],
     "prompt_number": 27
    },
    {
     "cell_type": "code",
     "collapsed": false,
     "input": [
      "%Rpush df group_order rownames"
     ],
     "language": "python",
     "metadata": {},
     "outputs": [],
     "prompt_number": 28
    },
    {
     "cell_type": "heading",
     "level": 2,
     "metadata": {},
     "source": [
      "Step2b : Run EdgeR on count matrix"
     ]
    },
    {
     "cell_type": "markdown",
     "metadata": {},
     "source": [
      "Run edgeR to get normalised count for each sample and return \n",
      "<ul><li> the count table </li><li> the gene order </li></ul>"
     ]
    },
    {
     "cell_type": "code",
     "collapsed": false,
     "input": [
      "%%R\n",
      "library(reshape2)\n",
      "library(ggplot2)\n",
      "library(edgeR)\n",
      "library(biomaRt)\n",
      " \n",
      "\n",
      "group = as.factor(group_order[,1])\n",
      "rownames(df) <- rownames[,1]\n",
      "\n",
      "DGEList(counts=df, group=group)->y\n",
      "\n",
      "\n",
      "\n",
      "y <- calcNormFactors(y)\n",
      "y <- estimateCommonDisp(y)\n",
      "\n",
      "y <- estimateTagwiseDisp(y)\n",
      "keep <- rowSums(cpm(y)>1) >=43\n",
      "discard <-rowSums(cpm(y)<1) >=43\n",
      "y <- y[keep,]\n",
      "y$samples$lib.size <- colSums(y$counts)\n",
      "\n",
      "total=cpm(y, normalized.lib.sizes=TRUE)\n",
      "\n",
      "dim(df)\n",
      "gene_order = rownames(df)\n"
     ],
     "language": "python",
     "metadata": {},
     "outputs": [],
     "prompt_number": 29
    },
    {
     "cell_type": "markdown",
     "metadata": {},
     "source": [
      "push count table and row names to python"
     ]
    },
    {
     "cell_type": "code",
     "collapsed": false,
     "input": [
      "total_count = %Rget df\n",
      "gene_order = %Rget gene_order"
     ],
     "language": "python",
     "metadata": {},
     "outputs": [],
     "prompt_number": 30
    },
    {
     "cell_type": "markdown",
     "metadata": {},
     "source": [
      "Trim ENSG  id and add labels to row"
     ]
    },
    {
     "cell_type": "code",
     "collapsed": false,
     "input": [
      "gene_order = [x[:15] for x in gene_order]\n",
      "total_count.index = gene_order"
     ],
     "language": "python",
     "metadata": {},
     "outputs": [],
     "prompt_number": 31
    },
    {
     "cell_type": "markdown",
     "metadata": {},
     "source": [
      "mean.set_index('ensg_id')"
     ]
    },
    {
     "cell_type": "heading",
     "level": 2,
     "metadata": {},
     "source": [
      "Step 2C: Read GTF file to get gene length and hgnc gnene"
     ]
    },
    {
     "cell_type": "code",
     "collapsed": false,
     "input": [
      "\n",
      "## read gtf file, to get read lenght, hgnc\n",
      "df_annotation = pd.read_csv('gencode.v15.annotation.gtf', comment=r\"#\", sep='\\t', header=None, skiprows=5)\n",
      "df_gene = df_annotation[df_annotation[2] == 'gene']\n",
      "df_gene['Gene_length'] = df_gene[4] - df_gene[3]\n",
      "\n",
      "f = lambda x : re.search('gene_id \\\"(ENSG.*)\\\"', x[0]).group(1) \n",
      "df_gene['ensg_id'] = df_gene[8].str.split(';').apply(f)\n",
      "\n",
      "\n",
      "\n",
      "df_gene = df_gene[['ensg_id','Gene_length']]\n",
      "df_gene['ensg_id']=df_gene['ensg_id'].str[:15]\n",
      "df_gene_indexed= df_gene.set_index('ensg_id')"
     ],
     "language": "python",
     "metadata": {},
     "outputs": [],
     "prompt_number": 32
    },
    {
     "cell_type": "code",
     "collapsed": false,
     "input": [],
     "language": "python",
     "metadata": {},
     "outputs": [],
     "prompt_number": 32
    },
    {
     "cell_type": "markdown",
     "metadata": {},
     "source": [
      "Use regex to get gene id"
     ]
    },
    {
     "cell_type": "code",
     "collapsed": false,
     "input": [
      "df_annotation = pd.read_csv('gencode.v15.annotation.gtf', comment=r\"#\", sep='\\t', header=None, skiprows=5)\n",
      "\n",
      "def find_gene_name(x):\n",
      "    matched = re.search('.*gene_name \"([^\"]+)\".*', x)\n",
      "    return matched.group(1)\n",
      "\n",
      "\n",
      "def find_ensg(x):\n",
      "    matched = re.search('.*gene_id \"([^\"]+)\".*', x)\n",
      "    return matched.group(1)[:15]\n",
      "df_annotation['hgnc'] = df_annotation[8].apply(find_gene_name)\n",
      "df_annotation['ensg'] = df_annotation[8].apply(find_ensg)"
     ],
     "language": "python",
     "metadata": {},
     "outputs": [],
     "prompt_number": 33
    },
    {
     "cell_type": "code",
     "collapsed": false,
     "input": [
      "hgnc_symbol = df_annotation['hgnc']\n",
      "hgnc_symbol = list(set(hgnc_symbol.values))\n"
     ],
     "language": "python",
     "metadata": {},
     "outputs": [],
     "prompt_number": 34
    },
    {
     "cell_type": "markdown",
     "metadata": {},
     "source": [
      "Do normalisation to gene length (RPKM) and remove column containing gene length"
     ]
    },
    {
     "cell_type": "code",
     "collapsed": false,
     "input": [
      "df_merged = pd.merge(total_count, df_gene_indexed, how='left', right_index=True, left_index=True)\n",
      "df_merged =df_merged.dropna()\n",
      "normalised_df= df_merged.div(df_merged['Gene_length'],axis=0)\n",
      "normalised_df.drop('Gene_length', 1, inplace=True)\n"
     ],
     "language": "python",
     "metadata": {},
     "outputs": [],
     "prompt_number": 35
    },
    {
     "cell_type": "markdown",
     "metadata": {},
     "source": [
      "Calculate the matrics of the dataframe and store it in a seperate matrix "
     ]
    },
    {
     "cell_type": "code",
     "collapsed": false,
     "input": [
      "metrics_df = normalised_df.std(axis=1)\n",
      "metrics_df = pd.DataFrame(metrics_df, columns=['Std'])\n",
      "metrics_df['mean'] = normalised_df.mean(axis=1)\n",
      "mfc_cal = lambda x : max(x)/min(x)\n",
      "## min divided by max will not produce NaN value, beacause 0/int = -inf. \n",
      "metrics_df['MFC'] = normalised_df.apply(mfc_cal, axis=1)\n",
      "## replace info and np.inf\n",
      "metrics_df = metrics_df.replace([np.inf, -np.inf], np.nan)\n",
      "metrics_df = metrics_df.dropna()\n",
      "\n",
      "\n"
     ],
     "language": "python",
     "metadata": {},
     "outputs": [],
     "prompt_number": 36
    },
    {
     "cell_type": "markdown",
     "metadata": {},
     "source": [
      "Calculate variance co-efficient but remove anything that has a mean of 0 or lower. "
     ]
    },
    {
     "cell_type": "code",
     "collapsed": false,
     "input": [
      "metrics_df = metrics_df[metrics_df['mean'] > 0 ]\n",
      "metrics_df['CoV'] = metrics_df['Std'] / metrics_df['mean']\n",
      "hgnc_ensg = df_annotation[['hgnc',\"ensg\"]]"
     ],
     "language": "python",
     "metadata": {},
     "outputs": [],
     "prompt_number": 37
    },
    {
     "cell_type": "markdown",
     "metadata": {},
     "source": [
      "Match ENSG id with hgnc symbol "
     ]
    },
    {
     "cell_type": "code",
     "collapsed": false,
     "input": [
      "hgnc_ensg = hgnc_ensg.drop_duplicates()\n",
      "metrics = metrics_df.reset_index()\n",
      "metrics = pd.merge(metrics, hgnc_ensg, how=\"inner\", left_on=\"index\", right_on=\"ensg\")\n",
      "final = metrics[['index','hgnc','Std','mean','CoV','MFC']]\n"
     ],
     "language": "python",
     "metadata": {},
     "outputs": [],
     "prompt_number": 38
    },
    {
     "cell_type": "code",
     "collapsed": false,
     "input": [
      "import seaborn as sns\n",
      "iqr_bound = 1.5 * (final['mean'].quantile(0.75) - final['mean'].quantile(0.25))\n",
      "upperfence_mean = final['mean'].quantile(0.75) + iqr_bound\n",
      "no_outliers = final[final['mean'] <= upperfence_mean]\n",
      "\n",
      "\n"
     ],
     "language": "python",
     "metadata": {},
     "outputs": [
      {
       "metadata": {},
       "output_type": "pyout",
       "prompt_number": 97,
       "text": [
        "<matplotlib.collections.PathCollection at 0x15d599e50>"
       ]
      },
      {
       "metadata": {},
       "output_type": "display_data",
       "png": "[encoded data removed]",
       "text": [
        "<matplotlib.figure.Figure at 0x15d59abd0>"
       ]
      }
     ],
     "prompt_number": 97
    },
    {
     "cell_type": "code",
     "collapsed": false,
     "input": [
      "goi = ['RPL7A', 'EEF1A1', 'RPL9','EEF1B2','RPS27A','RPLP0','RPS13','RPL38','RPL11','RPL23']\n",
      "\n",
      "control = ['ACTB', 'RPL6','HPRT1']\n",
      "goi_coords = {}\n",
      "goi_coords['x'] = []\n",
      "goi_coords['y'] = []\n",
      "\n",
      "control_coords = {}\n",
      "control_coords['x'] = []\n",
      "control_coords['y'] = []\n",
      "for x in goi:\n",
      "    goi_coords['x'].append(final[final['hgnc'] == x]['CoV'])\n",
      "    goi_coords['y'].append(final[final['hgnc'] == x]['log2mean'])\n",
      "\n",
      "for x in control:\n",
      "    control_coords['x'].append(final[final['hgnc'] == x]['CoV'])\n",
      "    control_coords['y'].append(final[final['hgnc'] == x]['log2mean'])\n",
      "\n",
      "    \n",
      "final['log2mean']= final['mean'].apply(lambda x : log2(0.125 + x))\n",
      "\n",
      "    \n",
      "    \n",
      "final.plot(kind='scatter', x='CoV',y='log2mean', color='grey')\n",
      "pyplot.scatter(x=goi_coords['x'], y=goi_coords['y'])\n",
      "pyplot.scatter(x=control_coords['x'], y=control_coords['y'], color='red')\n",
      "red_patch = mpatches.Patch(color='red', label='Commonly Used')\n",
      "blue_patch = mpatches.Patch(color='blue', label='Validated')\n",
      "\n",
      "\n",
      "plt.legend(handles=[red_patch,blue_patch])"
     ],
     "language": "python",
     "metadata": {},
     "outputs": [
      {
       "metadata": {},
       "output_type": "pyout",
       "prompt_number": 125,
       "text": [
        "<matplotlib.legend.Legend at 0x160d83910>"
       ]
      },
      {
       "metadata": {},
       "output_type": "display_data",
       "png": "[encoded data removed]",
       "text": [
        "<matplotlib.figure.Figure at 0x160db4f50>"
       ]
      }
     ],
     "prompt_number": 125
    },
    {
     "cell_type": "code",
     "collapsed": false,
     "input": [
      "import matplotlib.patches as mpatches\n",
      "red_patch = mpatches.Circle([10,11] ,color='red', radius=1, label='control_genes')\n",
      "plt.legend(handles=[red_patch])\n"
     ],
     "language": "python",
     "metadata": {},
     "outputs": [
      {
       "metadata": {},
       "output_type": "pyout",
       "prompt_number": 119,
       "text": [
        "<matplotlib.legend.Legend at 0x1609cda90>"
       ]
      },
      {
       "metadata": {},
       "output_type": "display_data",
       "png": "[encoded data removed]",
       "text": [
        "<matplotlib.figure.Figure at 0x15328fe10>"
       ]
      }
     ],
     "prompt_number": 119
    },
    {
     "cell_type": "code",
     "collapsed": false,
     "input": [
      "goi_coords['x']"
     ],
     "language": "python",
     "metadata": {},
     "outputs": [
      {
       "metadata": {},
       "output_type": "pyout",
       "prompt_number": 91,
       "text": [
        "[7632    0.33827\n",
        " Name: CoV, dtype: float64, 8365    0.347487\n",
        " Name: CoV, dtype: float64, 9222    0.291303\n",
        " Name: CoV, dtype: float64, 3776    0.324824\n",
        " Name: CoV, dtype: float64, 7200    0.3328\n",
        " Name: CoV, dtype: float64, 1631    0.385341\n",
        " Name: CoV, dtype: float64, 3314    0.341127\n",
        " Name: CoV, dtype: float64, 10880    0.305374\n",
        " Name: CoV, dtype: float64, 7007    0.312295\n",
        " Name: CoV, dtype: float64, 4880    0.313737\n",
        " Name: CoV, dtype: float64]"
       ]
      }
     ],
     "prompt_number": 91
    },
    {
     "cell_type": "code",
     "collapsed": false,
     "input": [
      "final[pd.qcut(final['mean'],[0.25,0.75].any())]"
     ],
     "language": "python",
     "metadata": {},
     "outputs": [
      {
       "ename": "AttributeError",
       "evalue": "'list' object has no attribute 'any'",
       "output_type": "pyerr",
       "traceback": [
        "\u001b[0;31m---------------------------------------------------------------------------\u001b[0m\n\u001b[0;31mAttributeError\u001b[0m                            Traceback (most recent call last)",
        "\u001b[0;32m<ipython-input-23-f5dafb50bc3d>\u001b[0m in \u001b[0;36m<module>\u001b[0;34m()\u001b[0m\n\u001b[0;32m----> 1\u001b[0;31m \u001b[0mfinal\u001b[0m\u001b[0;34m[\u001b[0m\u001b[0mpd\u001b[0m\u001b[0;34m.\u001b[0m\u001b[0mqcut\u001b[0m\u001b[0;34m(\u001b[0m\u001b[0mfinal\u001b[0m\u001b[0;34m[\u001b[0m\u001b[0;34m'mean'\u001b[0m\u001b[0;34m]\u001b[0m\u001b[0;34m,\u001b[0m\u001b[0;34m[\u001b[0m\u001b[0;36m0.25\u001b[0m\u001b[0;34m,\u001b[0m\u001b[0;36m0.75\u001b[0m\u001b[0;34m]\u001b[0m\u001b[0;34m.\u001b[0m\u001b[0many\u001b[0m\u001b[0;34m(\u001b[0m\u001b[0;34m)\u001b[0m\u001b[0;34m)\u001b[0m\u001b[0;34m]\u001b[0m\u001b[0;34m\u001b[0m\u001b[0m\n\u001b[0m",
        "\u001b[0;31mAttributeError\u001b[0m: 'list' object has no attribute 'any'"
       ]
      }
     ],
     "prompt_number": 23
    },
    {
     "cell_type": "code",
     "collapsed": false,
     "input": [
      "quantile"
     ],
     "language": "python",
     "metadata": {},
     "outputs": [
      {
       "ename": "NameError",
       "evalue": "name 'quantile' is not defined",
       "output_type": "pyerr",
       "traceback": [
        "\u001b[0;31m---------------------------------------------------------------------------\u001b[0m\n\u001b[0;31mNameError\u001b[0m                                 Traceback (most recent call last)",
        "\u001b[0;32m<ipython-input-47-b20242ac0ad2>\u001b[0m in \u001b[0;36m<module>\u001b[0;34m()\u001b[0m\n\u001b[0;32m----> 1\u001b[0;31m \u001b[0mquantile\u001b[0m\u001b[0;34m\u001b[0m\u001b[0m\n\u001b[0m",
        "\u001b[0;31mNameError\u001b[0m: name 'quantile' is not defined"
       ]
      }
     ],
     "prompt_number": 47
    },
    {
     "cell_type": "code",
     "collapsed": false,
     "input": [
      "import matplotlib.pyplot as plot\n",
      "import matplotlib\n",
      "\n",
      "fig, ax = plot.subplots()\n",
      "\n",
      "ax.plot(final.CoV.values, final.MFC.values, 'o')\n",
      "plot.show()"
     ],
     "language": "python",
     "metadata": {},
     "outputs": [
      {
       "metadata": {},
       "output_type": "display_data",
       "png": "[encoded data removed]",
       "text": [
        "<matplotlib.figure.Figure at 0x119138490>"
       ]
      }
     ],
     "prompt_number": 21
    },
    {
     "cell_type": "code",
     "collapsed": false,
     "input": [
      "import seaborn as sns \n",
      "upper_fence = final.MFC.quantile(0.75) + (1.5 * (final.MFC.quantile(0.75) - final.MFC.quantile(.25))) \n",
      "lower_fence = final.MFC.quantile(0.25) - (1.5 * )\n",
      "\n",
      "no_outliers = final[final['MFC'] <= upper_fence]\n"
     ],
     "language": "python",
     "metadata": {},
     "outputs": [
      {
       "ename": "SyntaxError",
       "evalue": "invalid syntax (<ipython-input-48-a49d31475e8d>, line 3)",
       "output_type": "pyerr",
       "traceback": [
        "\u001b[0;36m  File \u001b[0;32m\"<ipython-input-48-a49d31475e8d>\"\u001b[0;36m, line \u001b[0;32m3\u001b[0m\n\u001b[0;31m    lower_fence = final.MFC.quantile(0.25) - (1.5 * )\u001b[0m\n\u001b[0m                                                    ^\u001b[0m\n\u001b[0;31mSyntaxError\u001b[0m\u001b[0;31m:\u001b[0m invalid syntax\n"
       ]
      }
     ],
     "prompt_number": 48
    },
    {
     "cell_type": "code",
     "collapsed": false,
     "input": [
      "%Rpush final\n"
     ],
     "language": "python",
     "metadata": {},
     "outputs": [],
     "prompt_number": 26
    },
    {
     "cell_type": "code",
     "collapsed": false,
     "input": [
      "%%R \n",
      "boxplot(final$MFC)\n",
      "boxplot(final$MFC, outline=F)"
     ],
     "language": "python",
     "metadata": {},
     "outputs": [
      {
       "metadata": {},
       "output_type": "display_data",
       "png": "[encoded data removed]"
      },
      {
       "metadata": {},
       "output_type": "display_data",
       "png": "[encoded data removed]"
      }
     ],
     "prompt_number": 27
    },
    {
     "cell_type": "code",
     "collapsed": false,
     "input": [
      "\n",
      "fig, ax = plot.subplots()\n",
      "ax.plot(no_outliers.CoV.values, no_outliers.MFC.values, 'o')\n",
      "ax.set_xlabel('variance coefficient')\n",
      "ax.set_ylabel('MFC Value')\n",
      "ax.set_title('MFC vs Variance coefficent')\n",
      "plt.show()"
     ],
     "language": "python",
     "metadata": {},
     "outputs": [
      {
       "metadata": {},
       "output_type": "display_data",
       "png": "[encoded data removed]",
       "text": [
        "<matplotlib.figure.Figure at 0x154f80a50>"
       ]
      }
     ],
     "prompt_number": 25
    },
    {
     "cell_type": "code",
     "collapsed": false,
     "input": [
      "sns.kdeplot(no_outliers.MFC)"
     ],
     "language": "python",
     "metadata": {},
     "outputs": [
      {
       "metadata": {},
       "output_type": "pyout",
       "prompt_number": 28,
       "text": [
        "<matplotlib.axes._subplots.AxesSubplot at 0x16796ab90>"
       ]
      },
      {
       "metadata": {},
       "output_type": "display_data",
       "png": "[encoded data removed]",
       "text": [
        "<matplotlib.figure.Figure at 0x119df1110>"
       ]
      }
     ],
     "prompt_number": 28
    },
    {
     "cell_type": "code",
     "collapsed": false,
     "input": [
      "sns.kdeplot(no_outliers.CoV)"
     ],
     "language": "python",
     "metadata": {},
     "outputs": [
      {
       "metadata": {},
       "output_type": "pyout",
       "prompt_number": 27,
       "text": [
        "<matplotlib.axes.AxesSubplot at 0x154fa0b10>"
       ]
      },
      {
       "metadata": {},
       "output_type": "display_data",
       "png": "[encoded data removed]",
       "text": [
        "<matplotlib.figure.Figure at 0x154facbd0>"
       ]
      }
     ],
     "prompt_number": 27
    },
    {
     "cell_type": "code",
     "collapsed": false,
     "input": [
      "sns.jointplot(no_outliers.CoV, no_outliers['mean'], kind='hex')"
     ],
     "language": "python",
     "metadata": {},
     "outputs": []
    },
    {
     "cell_type": "code",
     "collapsed": false,
     "input": [
      "import seaborn as sns\n",
      "co_var = normalised_df.std(axis=1) / normalised_df.mean(axis=1)\n",
      "f = lambda x : max(x)/min(x)\n",
      "MAC = normalised_df.apply(f, axis=1)\n",
      "MAC = MAC.replace([np.inf, -np.inf], np.nan)\n",
      "\n",
      "MAC =  MAC.dropna()\n",
      "\n",
      "MACV2 = total_count.apply(f, axis=1)\n"
     ],
     "language": "python",
     "metadata": {},
     "outputs": []
    },
    {
     "cell_type": "code",
     "collapsed": false,
     "input": [
      "MACV2= MACV2[MACV2 != 0 ]\n",
      "MACV2 = MACV2[MACV2 < 3]\n",
      "MACV2"
     ],
     "language": "python",
     "metadata": {},
     "outputs": []
    },
    {
     "cell_type": "code",
     "collapsed": false,
     "input": [
      "sns.kdeplot()"
     ],
     "language": "python",
     "metadata": {},
     "outputs": [
      {
       "ename": "TypeError",
       "evalue": "kdeplot() takes at least 1 argument (0 given)",
       "output_type": "pyerr",
       "traceback": [
        "\u001b[0;31m---------------------------------------------------------------------------\u001b[0m\n\u001b[0;31mTypeError\u001b[0m                                 Traceback (most recent call last)",
        "\u001b[0;32m<ipython-input-30-e385a1a9640a>\u001b[0m in \u001b[0;36m<module>\u001b[0;34m()\u001b[0m\n\u001b[0;32m----> 1\u001b[0;31m \u001b[0msns\u001b[0m\u001b[0;34m.\u001b[0m\u001b[0mkdeplot\u001b[0m\u001b[0;34m(\u001b[0m\u001b[0;34m)\u001b[0m\u001b[0;34m\u001b[0m\u001b[0m\n\u001b[0m",
        "\u001b[0;31mTypeError\u001b[0m: kdeplot() takes at least 1 argument (0 given)"
       ]
      }
     ],
     "prompt_number": 30
    },
    {
     "cell_type": "code",
     "collapsed": false,
     "input": [],
     "language": "python",
     "metadata": {},
     "outputs": []
    },
    {
     "cell_type": "code",
     "collapsed": false,
     "input": [
      "normalised_df.std(axis=1) / normalised_df.mean(axis=1)"
     ],
     "language": "python",
     "metadata": {},
     "outputs": []
    },
    {
     "cell_type": "code",
     "collapsed": false,
     "input": [
      "from IPython.html.widgets import interact, interactive, fixed\n",
      "from IPython.html import widgets\n",
      "from IPython.display import clear_output, display, HTML\n",
      "\n",
      "\n",
      "def display_pandas(**kwargs):\n",
      "    s = \"<h3>HouseKeeper Rank</h3><table>\\n\"\n",
      "    Number = kwargs['number']\n",
      "    table =  no_outliers.sort([kwargs['SortBy']])\n",
      "    table = table.head(n=Number+1)\n",
      "    display(HTML(table.reset_index(drop=True).to_html()))\n",
      "\n",
      "    \n",
      "i = interact(display_pandas, \n",
      "             number=(1,100),\n",
      "             SortBy = widgets.RadioButtonsWidget(values=list(no_outliers.columns))\n",
      "             )"
     ],
     "language": "python",
     "metadata": {},
     "outputs": [
      {
       "html": [
        "<table border=\"1\" class=\"dataframe\">\n",
        "  <thead>\n",
        "    <tr style=\"text-align: right;\">\n",
        "      <th></th>\n",
        "      <th>index</th>\n",
        "      <th>hgnc</th>\n",
        "      <th>Std</th>\n",
        "      <th>mean</th>\n",
        "      <th>CoV</th>\n",
        "      <th>MFC</th>\n",
        "    </tr>\n",
        "  </thead>\n",
        "  <tbody>\n",
        "    <tr>\n",
        "      <th>0 </th>\n",
        "      <td> ENSG00000000003</td>\n",
        "      <td>   TSPAN6</td>\n",
        "      <td> 0.016976</td>\n",
        "      <td> 0.036736</td>\n",
        "      <td> 0.462119</td>\n",
        "      <td>  5.312500</td>\n",
        "    </tr>\n",
        "    <tr>\n",
        "      <th>1 </th>\n",
        "      <td> ENSG00000000419</td>\n",
        "      <td>     DPM1</td>\n",
        "      <td> 0.011694</td>\n",
        "      <td> 0.032744</td>\n",
        "      <td> 0.357117</td>\n",
        "      <td>  4.621538</td>\n",
        "    </tr>\n",
        "    <tr>\n",
        "      <th>2 </th>\n",
        "      <td> ENSG00000000457</td>\n",
        "      <td>    SCYL3</td>\n",
        "      <td> 0.003798</td>\n",
        "      <td> 0.007624</td>\n",
        "      <td> 0.498140</td>\n",
        "      <td> 10.716667</td>\n",
        "    </tr>\n",
        "    <tr>\n",
        "      <th>3 </th>\n",
        "      <td> ENSG00000000460</td>\n",
        "      <td> C1orf112</td>\n",
        "      <td> 0.000679</td>\n",
        "      <td> 0.001114</td>\n",
        "      <td> 0.609739</td>\n",
        "      <td> 13.391304</td>\n",
        "    </tr>\n",
        "    <tr>\n",
        "      <th>4 </th>\n",
        "      <td> ENSG00000000938</td>\n",
        "      <td>      FGR</td>\n",
        "      <td> 0.009040</td>\n",
        "      <td> 0.008498</td>\n",
        "      <td> 1.063871</td>\n",
        "      <td> 29.795455</td>\n",
        "    </tr>\n",
        "    <tr>\n",
        "      <th>5 </th>\n",
        "      <td> ENSG00000000971</td>\n",
        "      <td>      CFH</td>\n",
        "      <td> 0.032027</td>\n",
        "      <td> 0.027667</td>\n",
        "      <td> 1.157579</td>\n",
        "      <td> 62.313514</td>\n",
        "    </tr>\n",
        "    <tr>\n",
        "      <th>6 </th>\n",
        "      <td> ENSG00000001036</td>\n",
        "      <td>    FUCA2</td>\n",
        "      <td> 0.012894</td>\n",
        "      <td> 0.024032</td>\n",
        "      <td> 0.536548</td>\n",
        "      <td>  5.780749</td>\n",
        "    </tr>\n",
        "    <tr>\n",
        "      <th>7 </th>\n",
        "      <td> ENSG00000001084</td>\n",
        "      <td>     GCLC</td>\n",
        "      <td> 0.005222</td>\n",
        "      <td> 0.009552</td>\n",
        "      <td> 0.546668</td>\n",
        "      <td> 13.244681</td>\n",
        "    </tr>\n",
        "    <tr>\n",
        "      <th>8 </th>\n",
        "      <td> ENSG00000001167</td>\n",
        "      <td>     NFYA</td>\n",
        "      <td> 0.013048</td>\n",
        "      <td> 0.022849</td>\n",
        "      <td> 0.571069</td>\n",
        "      <td>  7.530233</td>\n",
        "    </tr>\n",
        "    <tr>\n",
        "      <th>9 </th>\n",
        "      <td> ENSG00000001460</td>\n",
        "      <td>    STPG1</td>\n",
        "      <td> 0.001881</td>\n",
        "      <td> 0.003532</td>\n",
        "      <td> 0.532488</td>\n",
        "      <td>  7.802817</td>\n",
        "    </tr>\n",
        "    <tr>\n",
        "      <th>10</th>\n",
        "      <td> ENSG00000001461</td>\n",
        "      <td>   NIPAL3</td>\n",
        "      <td> 0.007423</td>\n",
        "      <td> 0.012934</td>\n",
        "      <td> 0.573868</td>\n",
        "      <td> 11.572816</td>\n",
        "    </tr>\n",
        "    <tr>\n",
        "      <th>11</th>\n",
        "      <td> ENSG00000001497</td>\n",
        "      <td>    LAS1L</td>\n",
        "      <td> 0.019956</td>\n",
        "      <td> 0.035440</td>\n",
        "      <td> 0.563101</td>\n",
        "      <td>  7.864000</td>\n",
        "    </tr>\n",
        "  </tbody>\n",
        "</table>"
       ],
       "metadata": {},
       "output_type": "display_data",
       "text": [
        "<IPython.core.display.HTML at 0x1607b43d0>"
       ]
      }
     ],
     "prompt_number": 126
    },
    {
     "cell_type": "code",
     "collapsed": false,
     "input": [
      "no"
     ],
     "language": "python",
     "metadata": {},
     "outputs": [
      {
       "ename": "NameError",
       "evalue": "name 'no_outliers' is not defined",
       "output_type": "pyerr",
       "traceback": [
        "\u001b[0;31m---------------------------------------------------------------------------\u001b[0m\n\u001b[0;31mNameError\u001b[0m                                 Traceback (most recent call last)",
        "\u001b[0;32m<ipython-input-20-0ff167b60620>\u001b[0m in \u001b[0;36m<module>\u001b[0;34m()\u001b[0m\n\u001b[0;32m----> 1\u001b[0;31m \u001b[0mno_outliers\u001b[0m\u001b[0;34m\u001b[0m\u001b[0m\n\u001b[0m",
        "\u001b[0;31mNameError\u001b[0m: name 'no_outliers' is not defined"
       ]
      }
     ],
     "prompt_number": 20
    },
    {
     "cell_type": "code",
     "collapsed": false,
     "input": [
      "no_outliers['score'] = no_outliers['CoV'] * no_outliers['MFC']"
     ],
     "language": "python",
     "metadata": {},
     "outputs": [],
     "prompt_number": 229
    },
    {
     "cell_type": "code",
     "collapsed": false,
     "input": [
      "no_outliers.head()"
     ],
     "language": "python",
     "metadata": {},
     "outputs": [
      {
       "html": [
        "<div style=\"max-height:1000px;max-width:1500px;overflow:auto;\">\n",
        "<table border=\"1\" class=\"dataframe\">\n",
        "  <thead>\n",
        "    <tr style=\"text-align: right;\">\n",
        "      <th></th>\n",
        "      <th>index</th>\n",
        "      <th>hgnc</th>\n",
        "      <th>Std</th>\n",
        "      <th>mean</th>\n",
        "      <th>CoV</th>\n",
        "      <th>MFC</th>\n",
        "      <th>score</th>\n",
        "    </tr>\n",
        "  </thead>\n",
        "  <tbody>\n",
        "    <tr>\n",
        "      <th>0</th>\n",
        "      <td> ENSG00000000003</td>\n",
        "      <td>   TSPAN6</td>\n",
        "      <td> 0.016976</td>\n",
        "      <td> 0.036736</td>\n",
        "      <td> 0.462119</td>\n",
        "      <td>  5.312500</td>\n",
        "      <td>  2.455006</td>\n",
        "    </tr>\n",
        "    <tr>\n",
        "      <th>1</th>\n",
        "      <td> ENSG00000000419</td>\n",
        "      <td>     DPM1</td>\n",
        "      <td> 0.011694</td>\n",
        "      <td> 0.032744</td>\n",
        "      <td> 0.357117</td>\n",
        "      <td>  4.621538</td>\n",
        "      <td>  1.650430</td>\n",
        "    </tr>\n",
        "    <tr>\n",
        "      <th>2</th>\n",
        "      <td> ENSG00000000457</td>\n",
        "      <td>    SCYL3</td>\n",
        "      <td> 0.003798</td>\n",
        "      <td> 0.007624</td>\n",
        "      <td> 0.498140</td>\n",
        "      <td> 10.716667</td>\n",
        "      <td>  5.338397</td>\n",
        "    </tr>\n",
        "    <tr>\n",
        "      <th>3</th>\n",
        "      <td> ENSG00000000460</td>\n",
        "      <td> C1orf112</td>\n",
        "      <td> 0.000679</td>\n",
        "      <td> 0.001114</td>\n",
        "      <td> 0.609739</td>\n",
        "      <td> 13.391304</td>\n",
        "      <td>  8.165203</td>\n",
        "    </tr>\n",
        "    <tr>\n",
        "      <th>4</th>\n",
        "      <td> ENSG00000000938</td>\n",
        "      <td>      FGR</td>\n",
        "      <td> 0.009040</td>\n",
        "      <td> 0.008498</td>\n",
        "      <td> 1.063871</td>\n",
        "      <td> 29.795455</td>\n",
        "      <td> 31.698517</td>\n",
        "    </tr>\n",
        "  </tbody>\n",
        "</table>\n",
        "<p>5 rows \u00d7 7 columns</p>\n",
        "</div>"
       ],
       "metadata": {},
       "output_type": "pyout",
       "prompt_number": 230,
       "text": [
        "             index      hgnc       Std      mean       CoV        MFC  \\\n",
        "0  ENSG00000000003    TSPAN6  0.016976  0.036736  0.462119   5.312500   \n",
        "1  ENSG00000000419      DPM1  0.011694  0.032744  0.357117   4.621538   \n",
        "2  ENSG00000000457     SCYL3  0.003798  0.007624  0.498140  10.716667   \n",
        "3  ENSG00000000460  C1orf112  0.000679  0.001114  0.609739  13.391304   \n",
        "4  ENSG00000000938       FGR  0.009040  0.008498  1.063871  29.795455   \n",
        "\n",
        "       score  \n",
        "0   2.455006  \n",
        "1   1.650430  \n",
        "2   5.338397  \n",
        "3   8.165203  \n",
        "4  31.698517  \n",
        "\n",
        "[5 rows x 7 columns]"
       ]
      }
     ],
     "prompt_number": 230
    },
    {
     "cell_type": "code",
     "collapsed": false,
     "input": [
      "head_100 = no_outliers.sort(['score']).head(n=100)\n",
      "head_100.sort(['mean'], ascending=False).reset_index(drop=True).head(n=50)"
     ],
     "language": "python",
     "metadata": {},
     "outputs": [
      {
       "html": [
        "<div style=\"max-height:1000px;max-width:1500px;overflow:auto;\">\n",
        "<table border=\"1\" class=\"dataframe\">\n",
        "  <thead>\n",
        "    <tr style=\"text-align: right;\">\n",
        "      <th></th>\n",
        "      <th>index</th>\n",
        "      <th>hgnc</th>\n",
        "      <th>Std</th>\n",
        "      <th>mean</th>\n",
        "      <th>CoV</th>\n",
        "      <th>MFC</th>\n",
        "      <th>score</th>\n",
        "    </tr>\n",
        "  </thead>\n",
        "  <tbody>\n",
        "    <tr>\n",
        "      <th>0 </th>\n",
        "      <td> ENSG00000156508</td>\n",
        "      <td>    EEF1A1</td>\n",
        "      <td> 4.683542</td>\n",
        "      <td> 13.478332</td>\n",
        "      <td> 0.347487</td>\n",
        "      <td> 3.466657</td>\n",
        "      <td> 1.204618</td>\n",
        "    </tr>\n",
        "    <tr>\n",
        "      <th>1 </th>\n",
        "      <td> ENSG00000148303</td>\n",
        "      <td>     RPL7A</td>\n",
        "      <td> 1.645695</td>\n",
        "      <td>  4.865026</td>\n",
        "      <td> 0.338270</td>\n",
        "      <td> 3.449708</td>\n",
        "      <td> 1.166934</td>\n",
        "    </tr>\n",
        "    <tr>\n",
        "      <th>2 </th>\n",
        "      <td> ENSG00000137154</td>\n",
        "      <td>      RPS6</td>\n",
        "      <td> 1.696641</td>\n",
        "      <td>  4.858436</td>\n",
        "      <td> 0.349216</td>\n",
        "      <td> 3.695998</td>\n",
        "      <td> 1.290700</td>\n",
        "    </tr>\n",
        "    <tr>\n",
        "      <th>3 </th>\n",
        "      <td> ENSG00000142937</td>\n",
        "      <td>      RPS8</td>\n",
        "      <td> 1.390853</td>\n",
        "      <td>  4.030619</td>\n",
        "      <td> 0.345072</td>\n",
        "      <td> 3.372924</td>\n",
        "      <td> 1.163901</td>\n",
        "    </tr>\n",
        "    <tr>\n",
        "      <th>4 </th>\n",
        "      <td> ENSG00000108298</td>\n",
        "      <td>     RPL19</td>\n",
        "      <td> 1.103723</td>\n",
        "      <td>  3.308867</td>\n",
        "      <td> 0.333565</td>\n",
        "      <td> 3.066867</td>\n",
        "      <td> 1.023000</td>\n",
        "    </tr>\n",
        "    <tr>\n",
        "      <th>5 </th>\n",
        "      <td> ENSG00000143947</td>\n",
        "      <td>    RPS27A</td>\n",
        "      <td> 1.098735</td>\n",
        "      <td>  3.301484</td>\n",
        "      <td> 0.332800</td>\n",
        "      <td> 3.443064</td>\n",
        "      <td> 1.145853</td>\n",
        "    </tr>\n",
        "    <tr>\n",
        "      <th>6 </th>\n",
        "      <td> ENSG00000197958</td>\n",
        "      <td>     RPL12</td>\n",
        "      <td> 1.046142</td>\n",
        "      <td>  2.909146</td>\n",
        "      <td> 0.359605</td>\n",
        "      <td> 3.493320</td>\n",
        "      <td> 1.256214</td>\n",
        "    </tr>\n",
        "    <tr>\n",
        "      <th>7 </th>\n",
        "      <td> ENSG00000142676</td>\n",
        "      <td>     RPL11</td>\n",
        "      <td> 0.826112</td>\n",
        "      <td>  2.645291</td>\n",
        "      <td> 0.312295</td>\n",
        "      <td> 3.169891</td>\n",
        "      <td> 0.989942</td>\n",
        "    </tr>\n",
        "    <tr>\n",
        "      <th>8 </th>\n",
        "      <td> ENSG00000114942</td>\n",
        "      <td>    EEF1B2</td>\n",
        "      <td> 0.715224</td>\n",
        "      <td>  2.201880</td>\n",
        "      <td> 0.324824</td>\n",
        "      <td> 3.358338</td>\n",
        "      <td> 1.090870</td>\n",
        "    </tr>\n",
        "    <tr>\n",
        "      <th>9 </th>\n",
        "      <td> ENSG00000163682</td>\n",
        "      <td>      RPL9</td>\n",
        "      <td> 0.628429</td>\n",
        "      <td>  2.157305</td>\n",
        "      <td> 0.291303</td>\n",
        "      <td> 3.381323</td>\n",
        "      <td> 0.984989</td>\n",
        "    </tr>\n",
        "    <tr>\n",
        "      <th>10</th>\n",
        "      <td> ENSG00000110700</td>\n",
        "      <td>     RPS13</td>\n",
        "      <td> 0.695341</td>\n",
        "      <td>  2.038367</td>\n",
        "      <td> 0.341127</td>\n",
        "      <td> 3.177869</td>\n",
        "      <td> 1.084055</td>\n",
        "    </tr>\n",
        "    <tr>\n",
        "      <th>11</th>\n",
        "      <td> ENSG00000171863</td>\n",
        "      <td>      RPS7</td>\n",
        "      <td> 0.656959</td>\n",
        "      <td>  1.833913</td>\n",
        "      <td> 0.358228</td>\n",
        "      <td> 3.662078</td>\n",
        "      <td> 1.311858</td>\n",
        "    </tr>\n",
        "    <tr>\n",
        "      <th>12</th>\n",
        "      <td> ENSG00000144713</td>\n",
        "      <td>     RPL32</td>\n",
        "      <td> 0.589480</td>\n",
        "      <td>  1.609058</td>\n",
        "      <td> 0.366351</td>\n",
        "      <td> 3.326165</td>\n",
        "      <td> 1.218544</td>\n",
        "    </tr>\n",
        "    <tr>\n",
        "      <th>13</th>\n",
        "      <td> ENSG00000125691</td>\n",
        "      <td>     RPL23</td>\n",
        "      <td> 0.499930</td>\n",
        "      <td>  1.593471</td>\n",
        "      <td> 0.313737</td>\n",
        "      <td> 3.682954</td>\n",
        "      <td> 1.155478</td>\n",
        "    </tr>\n",
        "    <tr>\n",
        "      <th>14</th>\n",
        "      <td> ENSG00000164587</td>\n",
        "      <td>     RPS14</td>\n",
        "      <td> 0.512991</td>\n",
        "      <td>  1.500733</td>\n",
        "      <td> 0.341827</td>\n",
        "      <td> 3.352739</td>\n",
        "      <td> 1.146057</td>\n",
        "    </tr>\n",
        "    <tr>\n",
        "      <th>15</th>\n",
        "      <td> ENSG00000122406</td>\n",
        "      <td>      RPL5</td>\n",
        "      <td> 0.468851</td>\n",
        "      <td>  1.318062</td>\n",
        "      <td> 0.355712</td>\n",
        "      <td> 3.708197</td>\n",
        "      <td> 1.319052</td>\n",
        "    </tr>\n",
        "    <tr>\n",
        "      <th>16</th>\n",
        "      <td> ENSG00000174444</td>\n",
        "      <td>      RPL4</td>\n",
        "      <td> 0.354445</td>\n",
        "      <td>  1.017335</td>\n",
        "      <td> 0.348405</td>\n",
        "      <td> 3.802683</td>\n",
        "      <td> 1.324875</td>\n",
        "    </tr>\n",
        "    <tr>\n",
        "      <th>17</th>\n",
        "      <td> ENSG00000089009</td>\n",
        "      <td>      RPL6</td>\n",
        "      <td> 0.330094</td>\n",
        "      <td>  1.002956</td>\n",
        "      <td> 0.329121</td>\n",
        "      <td> 3.786687</td>\n",
        "      <td> 1.246279</td>\n",
        "    </tr>\n",
        "    <tr>\n",
        "      <th>18</th>\n",
        "      <td> ENSG00000256812</td>\n",
        "      <td>    CAPNS2</td>\n",
        "      <td> 0.263074</td>\n",
        "      <td>  0.896048</td>\n",
        "      <td> 0.293594</td>\n",
        "      <td> 3.134269</td>\n",
        "      <td> 0.920202</td>\n",
        "    </tr>\n",
        "    <tr>\n",
        "      <th>19</th>\n",
        "      <td> ENSG00000145592</td>\n",
        "      <td>     RPL37</td>\n",
        "      <td> 0.279391</td>\n",
        "      <td>  0.890765</td>\n",
        "      <td> 0.313653</td>\n",
        "      <td> 3.431567</td>\n",
        "      <td> 1.076320</td>\n",
        "    </tr>\n",
        "    <tr>\n",
        "      <th>20</th>\n",
        "      <td> ENSG00000123349</td>\n",
        "      <td>     PFDN5</td>\n",
        "      <td> 0.216620</td>\n",
        "      <td>  0.650816</td>\n",
        "      <td> 0.332844</td>\n",
        "      <td> 3.790840</td>\n",
        "      <td> 1.261759</td>\n",
        "    </tr>\n",
        "    <tr>\n",
        "      <th>21</th>\n",
        "      <td> ENSG00000138326</td>\n",
        "      <td>     RPS24</td>\n",
        "      <td> 0.197593</td>\n",
        "      <td>  0.623468</td>\n",
        "      <td> 0.316926</td>\n",
        "      <td> 3.202002</td>\n",
        "      <td> 1.014797</td>\n",
        "    </tr>\n",
        "    <tr>\n",
        "      <th>22</th>\n",
        "      <td> ENSG00000196531</td>\n",
        "      <td>      NACA</td>\n",
        "      <td> 0.208449</td>\n",
        "      <td>  0.602981</td>\n",
        "      <td> 0.345698</td>\n",
        "      <td> 3.585900</td>\n",
        "      <td> 1.239637</td>\n",
        "    </tr>\n",
        "    <tr>\n",
        "      <th>23</th>\n",
        "      <td> ENSG00000172809</td>\n",
        "      <td>     RPL38</td>\n",
        "      <td> 0.182736</td>\n",
        "      <td>  0.598401</td>\n",
        "      <td> 0.305374</td>\n",
        "      <td> 2.999141</td>\n",
        "      <td> 0.915860</td>\n",
        "    </tr>\n",
        "    <tr>\n",
        "      <th>24</th>\n",
        "      <td> ENSG00000071082</td>\n",
        "      <td>     RPL31</td>\n",
        "      <td> 0.137632</td>\n",
        "      <td>  0.393810</td>\n",
        "      <td> 0.349488</td>\n",
        "      <td> 3.767145</td>\n",
        "      <td> 1.316571</td>\n",
        "    </tr>\n",
        "    <tr>\n",
        "      <th>25</th>\n",
        "      <td> ENSG00000171476</td>\n",
        "      <td>      HOPX</td>\n",
        "      <td> 0.094248</td>\n",
        "      <td>  0.257924</td>\n",
        "      <td> 0.365412</td>\n",
        "      <td> 3.745042</td>\n",
        "      <td> 1.368483</td>\n",
        "    </tr>\n",
        "    <tr>\n",
        "      <th>26</th>\n",
        "      <td> ENSG00000116251</td>\n",
        "      <td>     RPL22</td>\n",
        "      <td> 0.073085</td>\n",
        "      <td>  0.218037</td>\n",
        "      <td> 0.335193</td>\n",
        "      <td> 3.945270</td>\n",
        "      <td> 1.322428</td>\n",
        "    </tr>\n",
        "    <tr>\n",
        "      <th>27</th>\n",
        "      <td> ENSG00000111775</td>\n",
        "      <td>    COX6A1</td>\n",
        "      <td> 0.065015</td>\n",
        "      <td>  0.202392</td>\n",
        "      <td> 0.321235</td>\n",
        "      <td> 3.466216</td>\n",
        "      <td> 1.113470</td>\n",
        "    </tr>\n",
        "    <tr>\n",
        "      <th>28</th>\n",
        "      <td> ENSG00000116459</td>\n",
        "      <td>    ATP5F1</td>\n",
        "      <td> 0.073804</td>\n",
        "      <td>  0.198180</td>\n",
        "      <td> 0.372409</td>\n",
        "      <td> 3.652738</td>\n",
        "      <td> 1.360312</td>\n",
        "    </tr>\n",
        "    <tr>\n",
        "      <th>29</th>\n",
        "      <td> ENSG00000134419</td>\n",
        "      <td>    RPS15A</td>\n",
        "      <td> 0.065494</td>\n",
        "      <td>  0.187664</td>\n",
        "      <td> 0.348994</td>\n",
        "      <td> 3.911001</td>\n",
        "      <td> 1.364916</td>\n",
        "    </tr>\n",
        "    <tr>\n",
        "      <th>30</th>\n",
        "      <td> ENSG00000167863</td>\n",
        "      <td>     ATP5H</td>\n",
        "      <td> 0.056578</td>\n",
        "      <td>  0.160574</td>\n",
        "      <td> 0.352347</td>\n",
        "      <td> 3.656646</td>\n",
        "      <td> 1.288409</td>\n",
        "    </tr>\n",
        "    <tr>\n",
        "      <th>31</th>\n",
        "      <td> ENSG00000232388</td>\n",
        "      <td> LINC00493</td>\n",
        "      <td> 0.046665</td>\n",
        "      <td>  0.152579</td>\n",
        "      <td> 0.305840</td>\n",
        "      <td> 3.986577</td>\n",
        "      <td> 1.219254</td>\n",
        "    </tr>\n",
        "    <tr>\n",
        "      <th>32</th>\n",
        "      <td> ENSG00000034713</td>\n",
        "      <td> GABARAPL2</td>\n",
        "      <td> 0.037215</td>\n",
        "      <td>  0.124763</td>\n",
        "      <td> 0.298284</td>\n",
        "      <td> 3.357143</td>\n",
        "      <td> 1.001383</td>\n",
        "    </tr>\n",
        "    <tr>\n",
        "      <th>33</th>\n",
        "      <td> ENSG00000197756</td>\n",
        "      <td>    RPL37A</td>\n",
        "      <td> 0.039075</td>\n",
        "      <td>  0.113263</td>\n",
        "      <td> 0.344991</td>\n",
        "      <td> 3.379184</td>\n",
        "      <td> 1.165789</td>\n",
        "    </tr>\n",
        "    <tr>\n",
        "      <th>34</th>\n",
        "      <td> ENSG00000137876</td>\n",
        "      <td>   RSL24D1</td>\n",
        "      <td> 0.028333</td>\n",
        "      <td>  0.090924</td>\n",
        "      <td> 0.311612</td>\n",
        "      <td> 3.679587</td>\n",
        "      <td> 1.146605</td>\n",
        "    </tr>\n",
        "    <tr>\n",
        "      <th>35</th>\n",
        "      <td> ENSG00000078668</td>\n",
        "      <td>     VDAC3</td>\n",
        "      <td> 0.035349</td>\n",
        "      <td>  0.090820</td>\n",
        "      <td> 0.389217</td>\n",
        "      <td> 3.382749</td>\n",
        "      <td> 1.316623</td>\n",
        "    </tr>\n",
        "    <tr>\n",
        "      <th>36</th>\n",
        "      <td> ENSG00000109332</td>\n",
        "      <td>    UBE2D3</td>\n",
        "      <td> 0.031704</td>\n",
        "      <td>  0.089078</td>\n",
        "      <td> 0.355915</td>\n",
        "      <td> 3.725847</td>\n",
        "      <td> 1.326086</td>\n",
        "    </tr>\n",
        "    <tr>\n",
        "      <th>37</th>\n",
        "      <td> ENSG00000138381</td>\n",
        "      <td>    ASNSD1</td>\n",
        "      <td> 0.029917</td>\n",
        "      <td>  0.088125</td>\n",
        "      <td> 0.339486</td>\n",
        "      <td> 3.128514</td>\n",
        "      <td> 1.062086</td>\n",
        "    </tr>\n",
        "    <tr>\n",
        "      <th>38</th>\n",
        "      <td> ENSG00000117614</td>\n",
        "      <td>      SYF2</td>\n",
        "      <td> 0.029537</td>\n",
        "      <td>  0.082621</td>\n",
        "      <td> 0.357507</td>\n",
        "      <td> 3.413866</td>\n",
        "      <td> 1.220482</td>\n",
        "    </tr>\n",
        "    <tr>\n",
        "      <th>39</th>\n",
        "      <td> ENSG00000150316</td>\n",
        "      <td>     CWC15</td>\n",
        "      <td> 0.027324</td>\n",
        "      <td>  0.077018</td>\n",
        "      <td> 0.354779</td>\n",
        "      <td> 3.510684</td>\n",
        "      <td> 1.245518</td>\n",
        "    </tr>\n",
        "    <tr>\n",
        "      <th>40</th>\n",
        "      <td> ENSG00000076043</td>\n",
        "      <td>     REXO2</td>\n",
        "      <td> 0.024413</td>\n",
        "      <td>  0.069908</td>\n",
        "      <td> 0.349220</td>\n",
        "      <td> 3.399549</td>\n",
        "      <td> 1.187190</td>\n",
        "    </tr>\n",
        "    <tr>\n",
        "      <th>41</th>\n",
        "      <td> ENSG00000113558</td>\n",
        "      <td>      SKP1</td>\n",
        "      <td> 0.019312</td>\n",
        "      <td>  0.055555</td>\n",
        "      <td> 0.347613</td>\n",
        "      <td> 3.723517</td>\n",
        "      <td> 1.294344</td>\n",
        "    </tr>\n",
        "    <tr>\n",
        "      <th>42</th>\n",
        "      <td> ENSG00000115446</td>\n",
        "      <td>     UNC50</td>\n",
        "      <td> 0.020601</td>\n",
        "      <td>  0.055092</td>\n",
        "      <td> 0.373943</td>\n",
        "      <td> 3.291667</td>\n",
        "      <td> 1.230897</td>\n",
        "    </tr>\n",
        "    <tr>\n",
        "      <th>43</th>\n",
        "      <td> ENSG00000109270</td>\n",
        "      <td>   LAMTOR3</td>\n",
        "      <td> 0.018066</td>\n",
        "      <td>  0.053646</td>\n",
        "      <td> 0.336769</td>\n",
        "      <td> 3.764444</td>\n",
        "      <td> 1.267750</td>\n",
        "    </tr>\n",
        "    <tr>\n",
        "      <th>44</th>\n",
        "      <td> ENSG00000144895</td>\n",
        "      <td>     EIF2A</td>\n",
        "      <td> 0.018073</td>\n",
        "      <td>  0.050721</td>\n",
        "      <td> 0.356318</td>\n",
        "      <td> 3.347458</td>\n",
        "      <td> 1.192759</td>\n",
        "    </tr>\n",
        "    <tr>\n",
        "      <th>45</th>\n",
        "      <td> ENSG00000085231</td>\n",
        "      <td>      TAF9</td>\n",
        "      <td> 0.017135</td>\n",
        "      <td>  0.049927</td>\n",
        "      <td> 0.343201</td>\n",
        "      <td> 3.750588</td>\n",
        "      <td> 1.287207</td>\n",
        "    </tr>\n",
        "    <tr>\n",
        "      <th>46</th>\n",
        "      <td> ENSG00000129625</td>\n",
        "      <td>     REEP5</td>\n",
        "      <td> 0.015452</td>\n",
        "      <td>  0.046352</td>\n",
        "      <td> 0.333366</td>\n",
        "      <td> 3.385512</td>\n",
        "      <td> 1.128614</td>\n",
        "    </tr>\n",
        "    <tr>\n",
        "      <th>47</th>\n",
        "      <td> ENSG00000131732</td>\n",
        "      <td>    ZCCHC9</td>\n",
        "      <td> 0.017061</td>\n",
        "      <td>  0.045880</td>\n",
        "      <td> 0.371854</td>\n",
        "      <td> 3.669039</td>\n",
        "      <td> 1.364346</td>\n",
        "    </tr>\n",
        "    <tr>\n",
        "      <th>48</th>\n",
        "      <td> ENSG00000164615</td>\n",
        "      <td>     CAMLG</td>\n",
        "      <td> 0.014345</td>\n",
        "      <td>  0.042782</td>\n",
        "      <td> 0.335314</td>\n",
        "      <td> 3.543210</td>\n",
        "      <td> 1.188086</td>\n",
        "    </tr>\n",
        "    <tr>\n",
        "      <th>49</th>\n",
        "      <td> ENSG00000090263</td>\n",
        "      <td>    MRPS33</td>\n",
        "      <td> 0.014608</td>\n",
        "      <td>  0.042504</td>\n",
        "      <td> 0.343698</td>\n",
        "      <td> 3.836634</td>\n",
        "      <td> 1.318645</td>\n",
        "    </tr>\n",
        "  </tbody>\n",
        "</table>\n",
        "<p>50 rows \u00d7 7 columns</p>\n",
        "</div>"
       ],
       "metadata": {},
       "output_type": "pyout",
       "prompt_number": 239,
       "text": [
        "              index       hgnc       Std       mean       CoV       MFC  \\\n",
        "0   ENSG00000156508     EEF1A1  4.683542  13.478332  0.347487  3.466657   \n",
        "1   ENSG00000148303      RPL7A  1.645695   4.865026  0.338270  3.449708   \n",
        "2   ENSG00000137154       RPS6  1.696641   4.858436  0.349216  3.695998   \n",
        "3   ENSG00000142937       RPS8  1.390853   4.030619  0.345072  3.372924   \n",
        "4   ENSG00000108298      RPL19  1.103723   3.308867  0.333565  3.066867   \n",
        "5   ENSG00000143947     RPS27A  1.098735   3.301484  0.332800  3.443064   \n",
        "6   ENSG00000197958      RPL12  1.046142   2.909146  0.359605  3.493320   \n",
        "7   ENSG00000142676      RPL11  0.826112   2.645291  0.312295  3.169891   \n",
        "8   ENSG00000114942     EEF1B2  0.715224   2.201880  0.324824  3.358338   \n",
        "9   ENSG00000163682       RPL9  0.628429   2.157305  0.291303  3.381323   \n",
        "10  ENSG00000110700      RPS13  0.695341   2.038367  0.341127  3.177869   \n",
        "11  ENSG00000171863       RPS7  0.656959   1.833913  0.358228  3.662078   \n",
        "12  ENSG00000144713      RPL32  0.589480   1.609058  0.366351  3.326165   \n",
        "13  ENSG00000125691      RPL23  0.499930   1.593471  0.313737  3.682954   \n",
        "14  ENSG00000164587      RPS14  0.512991   1.500733  0.341827  3.352739   \n",
        "15  ENSG00000122406       RPL5  0.468851   1.318062  0.355712  3.708197   \n",
        "16  ENSG00000174444       RPL4  0.354445   1.017335  0.348405  3.802683   \n",
        "17  ENSG00000089009       RPL6  0.330094   1.002956  0.329121  3.786687   \n",
        "18  ENSG00000256812     CAPNS2  0.263074   0.896048  0.293594  3.134269   \n",
        "19  ENSG00000145592      RPL37  0.279391   0.890765  0.313653  3.431567   \n",
        "20  ENSG00000123349      PFDN5  0.216620   0.650816  0.332844  3.790840   \n",
        "21  ENSG00000138326      RPS24  0.197593   0.623468  0.316926  3.202002   \n",
        "22  ENSG00000196531       NACA  0.208449   0.602981  0.345698  3.585900   \n",
        "23  ENSG00000172809      RPL38  0.182736   0.598401  0.305374  2.999141   \n",
        "24  ENSG00000071082      RPL31  0.137632   0.393810  0.349488  3.767145   \n",
        "25  ENSG00000171476       HOPX  0.094248   0.257924  0.365412  3.745042   \n",
        "26  ENSG00000116251      RPL22  0.073085   0.218037  0.335193  3.945270   \n",
        "27  ENSG00000111775     COX6A1  0.065015   0.202392  0.321235  3.466216   \n",
        "28  ENSG00000116459     ATP5F1  0.073804   0.198180  0.372409  3.652738   \n",
        "29  ENSG00000134419     RPS15A  0.065494   0.187664  0.348994  3.911001   \n",
        "30  ENSG00000167863      ATP5H  0.056578   0.160574  0.352347  3.656646   \n",
        "31  ENSG00000232388  LINC00493  0.046665   0.152579  0.305840  3.986577   \n",
        "32  ENSG00000034713  GABARAPL2  0.037215   0.124763  0.298284  3.357143   \n",
        "33  ENSG00000197756     RPL37A  0.039075   0.113263  0.344991  3.379184   \n",
        "34  ENSG00000137876    RSL24D1  0.028333   0.090924  0.311612  3.679587   \n",
        "35  ENSG00000078668      VDAC3  0.035349   0.090820  0.389217  3.382749   \n",
        "36  ENSG00000109332     UBE2D3  0.031704   0.089078  0.355915  3.725847   \n",
        "37  ENSG00000138381     ASNSD1  0.029917   0.088125  0.339486  3.128514   \n",
        "38  ENSG00000117614       SYF2  0.029537   0.082621  0.357507  3.413866   \n",
        "39  ENSG00000150316      CWC15  0.027324   0.077018  0.354779  3.510684   \n",
        "40  ENSG00000076043      REXO2  0.024413   0.069908  0.349220  3.399549   \n",
        "41  ENSG00000113558       SKP1  0.019312   0.055555  0.347613  3.723517   \n",
        "42  ENSG00000115446      UNC50  0.020601   0.055092  0.373943  3.291667   \n",
        "43  ENSG00000109270    LAMTOR3  0.018066   0.053646  0.336769  3.764444   \n",
        "44  ENSG00000144895      EIF2A  0.018073   0.050721  0.356318  3.347458   \n",
        "45  ENSG00000085231       TAF9  0.017135   0.049927  0.343201  3.750588   \n",
        "46  ENSG00000129625      REEP5  0.015452   0.046352  0.333366  3.385512   \n",
        "47  ENSG00000131732     ZCCHC9  0.017061   0.045880  0.371854  3.669039   \n",
        "48  ENSG00000164615      CAMLG  0.014345   0.042782  0.335314  3.543210   \n",
        "49  ENSG00000090263     MRPS33  0.014608   0.042504  0.343698  3.836634   \n",
        "\n",
        "       score  \n",
        "0   1.204618  \n",
        "1   1.166934  \n",
        "2   1.290700  \n",
        "3   1.163901  \n",
        "4   1.023000  \n",
        "5   1.145853  \n",
        "6   1.256214  \n",
        "7   0.989942  \n",
        "8   1.090870  \n",
        "9   0.984989  \n",
        "10  1.084055  \n",
        "11  1.311858  \n",
        "12  1.218544  \n",
        "13  1.155478  \n",
        "14  1.146057  \n",
        "15  1.319052  \n",
        "16  1.324875  \n",
        "17  1.246279  \n",
        "18  0.920202  \n",
        "19  1.076320  \n",
        "20  1.261759  \n",
        "21  1.014797  \n",
        "22  1.239637  \n",
        "23  0.915860  \n",
        "24  1.316571  \n",
        "25  1.368483  \n",
        "26  1.322428  \n",
        "27  1.113470  \n",
        "28  1.360312  \n",
        "29  1.364916  \n",
        "30  1.288409  \n",
        "31  1.219254  \n",
        "32  1.001383  \n",
        "33  1.165789  \n",
        "34  1.146605  \n",
        "35  1.316623  \n",
        "36  1.326086  \n",
        "37  1.062086  \n",
        "38  1.220482  \n",
        "39  1.245518  \n",
        "40  1.187190  \n",
        "41  1.294344  \n",
        "42  1.230897  \n",
        "43  1.267750  \n",
        "44  1.192759  \n",
        "45  1.287207  \n",
        "46  1.128614  \n",
        "47  1.364346  \n",
        "48  1.188086  \n",
        "49  1.318645  \n",
        "\n",
        "[50 rows x 7 columns]"
       ]
      }
     ],
     "prompt_number": 239
    },
    {
     "cell_type": "code",
     "collapsed": false,
     "input": [
      "no_outliers['mean'].mean()"
     ],
     "language": "python",
     "metadata": {},
     "outputs": []
    },
    {
     "cell_type": "code",
     "collapsed": false,
     "input": [
      "import seaborn as sns \n",
      "\n",
      "interquantile_range = no_outliers[(no_outliers['mean'] < no_outliers['mean'].quantile(0.75)) & (no_outliers['mean'] > no_outliers['mean'].quantile(0.25))]"
     ],
     "language": "python",
     "metadata": {},
     "outputs": [],
     "prompt_number": 71
    },
    {
     "cell_type": "code",
     "collapsed": false,
     "input": [
      "max(interquantile_range['mean'])"
     ],
     "language": "python",
     "metadata": {},
     "outputs": [
      {
       "metadata": {},
       "output_type": "pyout",
       "prompt_number": 73,
       "text": [
        "0.043760378697226508"
       ]
      }
     ],
     "prompt_number": 73
    },
    {
     "cell_type": "code",
     "collapsed": false,
     "input": [
      "min(interquantile_range['mean'])"
     ],
     "language": "python",
     "metadata": {},
     "outputs": [
      {
       "metadata": {},
       "output_type": "pyout",
       "prompt_number": 74,
       "text": [
        "0.0042551934044502233"
       ]
      }
     ],
     "prompt_number": 74
    },
    {
     "cell_type": "code",
     "collapsed": false,
     "input": [
      "max(interquantile_range['mean'])"
     ],
     "language": "python",
     "metadata": {},
     "outputs": [
      {
       "metadata": {},
       "output_type": "pyout",
       "prompt_number": 80,
       "text": [
        "0.043760378697226508"
       ]
      }
     ],
     "prompt_number": 80
    },
    {
     "cell_type": "code",
     "collapsed": false,
     "input": [
      "head_100 = no_outliers.sort(['score']).head(n=100)\n"
     ],
     "language": "python",
     "metadata": {},
     "outputs": [
      {
       "ename": "KeyError",
       "evalue": "u'no item named score'",
       "output_type": "pyerr",
       "traceback": [
        "\u001b[0;31m---------------------------------------------------------------------------\u001b[0m\n\u001b[0;31mKeyError\u001b[0m                                  Traceback (most recent call last)",
        "\u001b[0;32m<ipython-input-77-da762205487a>\u001b[0m in \u001b[0;36m<module>\u001b[0;34m()\u001b[0m\n\u001b[0;32m----> 1\u001b[0;31m \u001b[0mhead_100\u001b[0m \u001b[0;34m=\u001b[0m \u001b[0mno_outliers\u001b[0m\u001b[0;34m.\u001b[0m\u001b[0msort\u001b[0m\u001b[0;34m(\u001b[0m\u001b[0;34m[\u001b[0m\u001b[0;34m'score'\u001b[0m\u001b[0;34m]\u001b[0m\u001b[0;34m)\u001b[0m\u001b[0;34m.\u001b[0m\u001b[0mhead\u001b[0m\u001b[0;34m(\u001b[0m\u001b[0mn\u001b[0m\u001b[0;34m=\u001b[0m\u001b[0;36m100\u001b[0m\u001b[0;34m)\u001b[0m\u001b[0;34m\u001b[0m\u001b[0m\n\u001b[0m",
        "\u001b[0;32m/Library/Frameworks/Python.framework/Versions/2.7/lib/python2.7/site-packages/pandas/core/frame.pyc\u001b[0m in \u001b[0;36msort\u001b[0;34m(self, columns, column, axis, ascending, inplace)\u001b[0m\n\u001b[1;32m   2534\u001b[0m             \u001b[0mcolumns\u001b[0m \u001b[0;34m=\u001b[0m \u001b[0mcolumn\u001b[0m\u001b[0;34m\u001b[0m\u001b[0m\n\u001b[1;32m   2535\u001b[0m         return self.sort_index(by=columns, axis=axis, ascending=ascending,\n\u001b[0;32m-> 2536\u001b[0;31m                                inplace=inplace)\n\u001b[0m\u001b[1;32m   2537\u001b[0m \u001b[0;34m\u001b[0m\u001b[0m\n\u001b[1;32m   2538\u001b[0m     def sort_index(self, axis=0, by=None, ascending=True, inplace=False,\n",
        "\u001b[0;32m/Library/Frameworks/Python.framework/Versions/2.7/lib/python2.7/site-packages/pandas/core/frame.pyc\u001b[0m in \u001b[0;36msort_index\u001b[0;34m(self, axis, by, ascending, inplace, kind)\u001b[0m\n\u001b[1;32m   2600\u001b[0m             \u001b[0;32melse\u001b[0m\u001b[0;34m:\u001b[0m\u001b[0;34m\u001b[0m\u001b[0m\n\u001b[1;32m   2601\u001b[0m                 \u001b[0mby\u001b[0m \u001b[0;34m=\u001b[0m \u001b[0mby\u001b[0m\u001b[0;34m[\u001b[0m\u001b[0;36m0\u001b[0m\u001b[0;34m]\u001b[0m\u001b[0;34m\u001b[0m\u001b[0m\n\u001b[0;32m-> 2602\u001b[0;31m                 \u001b[0mk\u001b[0m \u001b[0;34m=\u001b[0m \u001b[0mself\u001b[0m\u001b[0;34m[\u001b[0m\u001b[0mby\u001b[0m\u001b[0;34m]\u001b[0m\u001b[0;34m.\u001b[0m\u001b[0mvalues\u001b[0m\u001b[0;34m\u001b[0m\u001b[0m\n\u001b[0m\u001b[1;32m   2603\u001b[0m                 \u001b[0;32mif\u001b[0m \u001b[0mk\u001b[0m\u001b[0;34m.\u001b[0m\u001b[0mndim\u001b[0m \u001b[0;34m==\u001b[0m \u001b[0;36m2\u001b[0m\u001b[0;34m:\u001b[0m\u001b[0;34m\u001b[0m\u001b[0m\n\u001b[1;32m   2604\u001b[0m                     raise ValueError('Cannot sort by duplicate column %s'\n",
        "\u001b[0;32m/Library/Frameworks/Python.framework/Versions/2.7/lib/python2.7/site-packages/pandas/core/frame.pyc\u001b[0m in \u001b[0;36m__getitem__\u001b[0;34m(self, key)\u001b[0m\n\u001b[1;32m   1656\u001b[0m             \u001b[0;32mreturn\u001b[0m \u001b[0mself\u001b[0m\u001b[0;34m.\u001b[0m\u001b[0m_getitem_multilevel\u001b[0m\u001b[0;34m(\u001b[0m\u001b[0mkey\u001b[0m\u001b[0;34m)\u001b[0m\u001b[0;34m\u001b[0m\u001b[0m\n\u001b[1;32m   1657\u001b[0m         \u001b[0;32melse\u001b[0m\u001b[0;34m:\u001b[0m\u001b[0;34m\u001b[0m\u001b[0m\n\u001b[0;32m-> 1658\u001b[0;31m             \u001b[0;32mreturn\u001b[0m \u001b[0mself\u001b[0m\u001b[0;34m.\u001b[0m\u001b[0m_getitem_column\u001b[0m\u001b[0;34m(\u001b[0m\u001b[0mkey\u001b[0m\u001b[0;34m)\u001b[0m\u001b[0;34m\u001b[0m\u001b[0m\n\u001b[0m\u001b[1;32m   1659\u001b[0m \u001b[0;34m\u001b[0m\u001b[0m\n\u001b[1;32m   1660\u001b[0m     \u001b[0;32mdef\u001b[0m \u001b[0m_getitem_column\u001b[0m\u001b[0;34m(\u001b[0m\u001b[0mself\u001b[0m\u001b[0;34m,\u001b[0m \u001b[0mkey\u001b[0m\u001b[0;34m)\u001b[0m\u001b[0;34m:\u001b[0m\u001b[0;34m\u001b[0m\u001b[0m\n",
        "\u001b[0;32m/Library/Frameworks/Python.framework/Versions/2.7/lib/python2.7/site-packages/pandas/core/frame.pyc\u001b[0m in \u001b[0;36m_getitem_column\u001b[0;34m(self, key)\u001b[0m\n\u001b[1;32m   1663\u001b[0m         \u001b[0;31m# get column\u001b[0m\u001b[0;34m\u001b[0m\u001b[0;34m\u001b[0m\u001b[0m\n\u001b[1;32m   1664\u001b[0m         \u001b[0;32mif\u001b[0m \u001b[0mself\u001b[0m\u001b[0;34m.\u001b[0m\u001b[0mcolumns\u001b[0m\u001b[0;34m.\u001b[0m\u001b[0mis_unique\u001b[0m\u001b[0;34m:\u001b[0m\u001b[0;34m\u001b[0m\u001b[0m\n\u001b[0;32m-> 1665\u001b[0;31m             \u001b[0;32mreturn\u001b[0m \u001b[0mself\u001b[0m\u001b[0;34m.\u001b[0m\u001b[0m_get_item_cache\u001b[0m\u001b[0;34m(\u001b[0m\u001b[0mkey\u001b[0m\u001b[0;34m)\u001b[0m\u001b[0;34m\u001b[0m\u001b[0m\n\u001b[0m\u001b[1;32m   1666\u001b[0m \u001b[0;34m\u001b[0m\u001b[0m\n\u001b[1;32m   1667\u001b[0m         \u001b[0;31m# duplicate columns & possible reduce dimensionaility\u001b[0m\u001b[0;34m\u001b[0m\u001b[0;34m\u001b[0m\u001b[0m\n",
        "\u001b[0;32m/Library/Frameworks/Python.framework/Versions/2.7/lib/python2.7/site-packages/pandas/core/generic.pyc\u001b[0m in \u001b[0;36m_get_item_cache\u001b[0;34m(self, item)\u001b[0m\n\u001b[1;32m   1003\u001b[0m         \u001b[0mres\u001b[0m \u001b[0;34m=\u001b[0m \u001b[0mcache\u001b[0m\u001b[0;34m.\u001b[0m\u001b[0mget\u001b[0m\u001b[0;34m(\u001b[0m\u001b[0mitem\u001b[0m\u001b[0;34m)\u001b[0m\u001b[0;34m\u001b[0m\u001b[0m\n\u001b[1;32m   1004\u001b[0m         \u001b[0;32mif\u001b[0m \u001b[0mres\u001b[0m \u001b[0;32mis\u001b[0m \u001b[0mNone\u001b[0m\u001b[0;34m:\u001b[0m\u001b[0;34m\u001b[0m\u001b[0m\n\u001b[0;32m-> 1005\u001b[0;31m             \u001b[0mvalues\u001b[0m \u001b[0;34m=\u001b[0m \u001b[0mself\u001b[0m\u001b[0;34m.\u001b[0m\u001b[0m_data\u001b[0m\u001b[0;34m.\u001b[0m\u001b[0mget\u001b[0m\u001b[0;34m(\u001b[0m\u001b[0mitem\u001b[0m\u001b[0;34m)\u001b[0m\u001b[0;34m\u001b[0m\u001b[0m\n\u001b[0m\u001b[1;32m   1006\u001b[0m             \u001b[0mres\u001b[0m \u001b[0;34m=\u001b[0m \u001b[0mself\u001b[0m\u001b[0;34m.\u001b[0m\u001b[0m_box_item_values\u001b[0m\u001b[0;34m(\u001b[0m\u001b[0mitem\u001b[0m\u001b[0;34m,\u001b[0m \u001b[0mvalues\u001b[0m\u001b[0;34m)\u001b[0m\u001b[0;34m\u001b[0m\u001b[0m\n\u001b[1;32m   1007\u001b[0m             \u001b[0mcache\u001b[0m\u001b[0;34m[\u001b[0m\u001b[0mitem\u001b[0m\u001b[0;34m]\u001b[0m \u001b[0;34m=\u001b[0m \u001b[0mres\u001b[0m\u001b[0;34m\u001b[0m\u001b[0m\n",
        "\u001b[0;32m/Library/Frameworks/Python.framework/Versions/2.7/lib/python2.7/site-packages/pandas/core/internals.pyc\u001b[0m in \u001b[0;36mget\u001b[0;34m(self, item)\u001b[0m\n\u001b[1;32m   2871\u001b[0m                 \u001b[0;32mreturn\u001b[0m \u001b[0mself\u001b[0m\u001b[0;34m.\u001b[0m\u001b[0mget_for_nan_indexer\u001b[0m\u001b[0;34m(\u001b[0m\u001b[0mindexer\u001b[0m\u001b[0;34m)\u001b[0m\u001b[0;34m\u001b[0m\u001b[0m\n\u001b[1;32m   2872\u001b[0m \u001b[0;34m\u001b[0m\u001b[0m\n\u001b[0;32m-> 2873\u001b[0;31m             \u001b[0m_\u001b[0m\u001b[0;34m,\u001b[0m \u001b[0mblock\u001b[0m \u001b[0;34m=\u001b[0m \u001b[0mself\u001b[0m\u001b[0;34m.\u001b[0m\u001b[0m_find_block\u001b[0m\u001b[0;34m(\u001b[0m\u001b[0mitem\u001b[0m\u001b[0;34m)\u001b[0m\u001b[0;34m\u001b[0m\u001b[0m\n\u001b[0m\u001b[1;32m   2874\u001b[0m             \u001b[0;32mreturn\u001b[0m \u001b[0mblock\u001b[0m\u001b[0;34m.\u001b[0m\u001b[0mget\u001b[0m\u001b[0;34m(\u001b[0m\u001b[0mitem\u001b[0m\u001b[0;34m)\u001b[0m\u001b[0;34m\u001b[0m\u001b[0m\n\u001b[1;32m   2875\u001b[0m         \u001b[0;32melse\u001b[0m\u001b[0;34m:\u001b[0m\u001b[0;34m\u001b[0m\u001b[0m\n",
        "\u001b[0;32m/Library/Frameworks/Python.framework/Versions/2.7/lib/python2.7/site-packages/pandas/core/internals.pyc\u001b[0m in \u001b[0;36m_find_block\u001b[0;34m(self, item)\u001b[0m\n\u001b[1;32m   3183\u001b[0m \u001b[0;34m\u001b[0m\u001b[0m\n\u001b[1;32m   3184\u001b[0m     \u001b[0;32mdef\u001b[0m \u001b[0m_find_block\u001b[0m\u001b[0;34m(\u001b[0m\u001b[0mself\u001b[0m\u001b[0;34m,\u001b[0m \u001b[0mitem\u001b[0m\u001b[0;34m)\u001b[0m\u001b[0;34m:\u001b[0m\u001b[0;34m\u001b[0m\u001b[0m\n\u001b[0;32m-> 3185\u001b[0;31m         \u001b[0mself\u001b[0m\u001b[0;34m.\u001b[0m\u001b[0m_check_have\u001b[0m\u001b[0;34m(\u001b[0m\u001b[0mitem\u001b[0m\u001b[0;34m)\u001b[0m\u001b[0;34m\u001b[0m\u001b[0m\n\u001b[0m\u001b[1;32m   3186\u001b[0m         \u001b[0;32mfor\u001b[0m \u001b[0mi\u001b[0m\u001b[0;34m,\u001b[0m \u001b[0mblock\u001b[0m \u001b[0;32min\u001b[0m \u001b[0menumerate\u001b[0m\u001b[0;34m(\u001b[0m\u001b[0mself\u001b[0m\u001b[0;34m.\u001b[0m\u001b[0mblocks\u001b[0m\u001b[0;34m)\u001b[0m\u001b[0;34m:\u001b[0m\u001b[0;34m\u001b[0m\u001b[0m\n\u001b[1;32m   3187\u001b[0m             \u001b[0;32mif\u001b[0m \u001b[0mitem\u001b[0m \u001b[0;32min\u001b[0m \u001b[0mblock\u001b[0m\u001b[0;34m:\u001b[0m\u001b[0;34m\u001b[0m\u001b[0m\n",
        "\u001b[0;32m/Library/Frameworks/Python.framework/Versions/2.7/lib/python2.7/site-packages/pandas/core/internals.pyc\u001b[0m in \u001b[0;36m_check_have\u001b[0;34m(self, item)\u001b[0m\n\u001b[1;32m   3190\u001b[0m     \u001b[0;32mdef\u001b[0m \u001b[0m_check_have\u001b[0m\u001b[0;34m(\u001b[0m\u001b[0mself\u001b[0m\u001b[0;34m,\u001b[0m \u001b[0mitem\u001b[0m\u001b[0;34m)\u001b[0m\u001b[0;34m:\u001b[0m\u001b[0;34m\u001b[0m\u001b[0m\n\u001b[1;32m   3191\u001b[0m         \u001b[0;32mif\u001b[0m \u001b[0mitem\u001b[0m \u001b[0;32mnot\u001b[0m \u001b[0;32min\u001b[0m \u001b[0mself\u001b[0m\u001b[0;34m.\u001b[0m\u001b[0mitems\u001b[0m\u001b[0;34m:\u001b[0m\u001b[0;34m\u001b[0m\u001b[0m\n\u001b[0;32m-> 3192\u001b[0;31m             \u001b[0;32mraise\u001b[0m \u001b[0mKeyError\u001b[0m\u001b[0;34m(\u001b[0m\u001b[0;34m'no item named %s'\u001b[0m \u001b[0;34m%\u001b[0m \u001b[0mcom\u001b[0m\u001b[0;34m.\u001b[0m\u001b[0mpprint_thing\u001b[0m\u001b[0;34m(\u001b[0m\u001b[0mitem\u001b[0m\u001b[0;34m)\u001b[0m\u001b[0;34m)\u001b[0m\u001b[0;34m\u001b[0m\u001b[0m\n\u001b[0m\u001b[1;32m   3193\u001b[0m \u001b[0;34m\u001b[0m\u001b[0m\n\u001b[1;32m   3194\u001b[0m     def reindex_axis(self, new_axis, indexer=None, method=None, axis=0,\n",
        "\u001b[0;31mKeyError\u001b[0m: u'no item named score'"
       ]
      }
     ],
     "prompt_number": 77
    },
    {
     "cell_type": "code",
     "collapsed": false,
     "input": [],
     "language": "python",
     "metadata": {},
     "outputs": []
    }
   ],
   "metadata": {}
  }
 ]
}